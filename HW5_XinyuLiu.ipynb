{
  "cells": [
    {
      "cell_type": "markdown",
      "metadata": {
        "id": "view-in-github",
        "colab_type": "text"
      },
      "source": [
        "<a href=\"https://colab.research.google.com/github/RainLiu0611/441ML/blob/main/HW5_XinyuLiu.ipynb\" target=\"_parent\"><img src=\"https://colab.research.google.com/assets/colab-badge.svg\" alt=\"Open In Colab\"/></a>"
      ]
    },
    {
      "cell_type": "code",
      "execution_count": null,
      "id": "a0c433dd",
      "metadata": {
        "id": "a0c433dd",
        "outputId": "1ab9853f-ff2c-45b5-8f98-f38172ce32d1"
      },
      "outputs": [
        {
          "name": "stdout",
          "output_type": "stream",
          "text": [
            "Requirement already satisfied: imbalanced-learn in /Users/rain/anaconda3/lib/python3.11/site-packages (0.10.1)\n",
            "Requirement already satisfied: numpy>=1.17.3 in /Users/rain/anaconda3/lib/python3.11/site-packages (from imbalanced-learn) (1.24.3)\n",
            "Requirement already satisfied: scipy>=1.3.2 in /Users/rain/anaconda3/lib/python3.11/site-packages (from imbalanced-learn) (1.11.1)\n",
            "Requirement already satisfied: scikit-learn>=1.0.2 in /Users/rain/anaconda3/lib/python3.11/site-packages (from imbalanced-learn) (1.4.0)\n",
            "Requirement already satisfied: joblib>=1.1.1 in /Users/rain/anaconda3/lib/python3.11/site-packages (from imbalanced-learn) (1.3.2)\n",
            "Requirement already satisfied: threadpoolctl>=2.0.0 in /Users/rain/anaconda3/lib/python3.11/site-packages (from imbalanced-learn) (2.2.0)\n",
            "Note: you may need to restart the kernel to use updated packages.\n"
          ]
        }
      ],
      "source": [
        "pip install imbalanced-learn"
      ]
    },
    {
      "cell_type": "code",
      "execution_count": null,
      "id": "1df6a2c4",
      "metadata": {
        "id": "1df6a2c4",
        "outputId": "03d35231-2cf1-444a-c599-0c993a123af8"
      },
      "outputs": [
        {
          "name": "stdout",
          "output_type": "stream",
          "text": [
            "Requirement already satisfied: scikit-learn in /Users/rain/anaconda3/lib/python3.11/site-packages (1.4.0)\n",
            "Requirement already satisfied: numpy<2.0,>=1.19.5 in /Users/rain/anaconda3/lib/python3.11/site-packages (from scikit-learn) (1.24.3)\n",
            "Requirement already satisfied: scipy>=1.6.0 in /Users/rain/anaconda3/lib/python3.11/site-packages (from scikit-learn) (1.11.1)\n",
            "Requirement already satisfied: joblib>=1.2.0 in /Users/rain/anaconda3/lib/python3.11/site-packages (from scikit-learn) (1.3.2)\n",
            "Requirement already satisfied: threadpoolctl>=2.0.0 in /Users/rain/anaconda3/lib/python3.11/site-packages (from scikit-learn) (2.2.0)\n",
            "Note: you may need to restart the kernel to use updated packages.\n"
          ]
        }
      ],
      "source": [
        "pip install --upgrade scikit-learn"
      ]
    },
    {
      "cell_type": "code",
      "execution_count": 1,
      "id": "9d5cbdfa",
      "metadata": {
        "id": "9d5cbdfa"
      },
      "outputs": [],
      "source": [
        "import pandas as pd\n",
        "import matplotlib.pyplot as plt\n",
        "import numpy as np\n",
        "from sklearn.model_selection import train_test_split"
      ]
    },
    {
      "cell_type": "code",
      "execution_count": 2,
      "id": "8927770b",
      "metadata": {
        "id": "8927770b"
      },
      "outputs": [],
      "source": [
        "from imblearn.over_sampling import SMOTENC"
      ]
    },
    {
      "cell_type": "code",
      "execution_count": 15,
      "id": "64fa0472",
      "metadata": {
        "id": "64fa0472"
      },
      "outputs": [],
      "source": [
        "data = pd.read_csv(\"/card_transdata.csv\")"
      ]
    },
    {
      "cell_type": "code",
      "execution_count": 16,
      "id": "64000602",
      "metadata": {
        "colab": {
          "base_uri": "https://localhost:8080/",
          "height": 204
        },
        "id": "64000602",
        "outputId": "39d3cf3b-715f-4c0e-a4f9-15c4542b216e"
      },
      "outputs": [
        {
          "output_type": "execute_result",
          "data": {
            "text/plain": [
              "   distance_from_home  distance_from_last_transaction  \\\n",
              "0           57.877857                        0.311140   \n",
              "1           10.829943                        0.175592   \n",
              "2            5.091079                        0.805153   \n",
              "3            2.247564                        5.600044   \n",
              "4           44.190936                        0.566486   \n",
              "\n",
              "   ratio_to_median_purchase_price  repeat_retailer  used_chip  \\\n",
              "0                        1.945940                1          1   \n",
              "1                        1.294219                1          0   \n",
              "2                        0.427715                1          0   \n",
              "3                        0.362663                1          1   \n",
              "4                        2.222767                1          1   \n",
              "\n",
              "   used_pin_number  online_order  fraud  \n",
              "0                0             0      0  \n",
              "1                0             0      0  \n",
              "2                0             1      0  \n",
              "3                0             1      0  \n",
              "4                0             1      0  "
            ],
            "text/html": [
              "\n",
              "  <div id=\"df-e81d8f51-b6aa-46a2-a7e3-5c756a1e5dcc\" class=\"colab-df-container\">\n",
              "    <div>\n",
              "<style scoped>\n",
              "    .dataframe tbody tr th:only-of-type {\n",
              "        vertical-align: middle;\n",
              "    }\n",
              "\n",
              "    .dataframe tbody tr th {\n",
              "        vertical-align: top;\n",
              "    }\n",
              "\n",
              "    .dataframe thead th {\n",
              "        text-align: right;\n",
              "    }\n",
              "</style>\n",
              "<table border=\"1\" class=\"dataframe\">\n",
              "  <thead>\n",
              "    <tr style=\"text-align: right;\">\n",
              "      <th></th>\n",
              "      <th>distance_from_home</th>\n",
              "      <th>distance_from_last_transaction</th>\n",
              "      <th>ratio_to_median_purchase_price</th>\n",
              "      <th>repeat_retailer</th>\n",
              "      <th>used_chip</th>\n",
              "      <th>used_pin_number</th>\n",
              "      <th>online_order</th>\n",
              "      <th>fraud</th>\n",
              "    </tr>\n",
              "  </thead>\n",
              "  <tbody>\n",
              "    <tr>\n",
              "      <th>0</th>\n",
              "      <td>57.877857</td>\n",
              "      <td>0.311140</td>\n",
              "      <td>1.945940</td>\n",
              "      <td>1</td>\n",
              "      <td>1</td>\n",
              "      <td>0</td>\n",
              "      <td>0</td>\n",
              "      <td>0</td>\n",
              "    </tr>\n",
              "    <tr>\n",
              "      <th>1</th>\n",
              "      <td>10.829943</td>\n",
              "      <td>0.175592</td>\n",
              "      <td>1.294219</td>\n",
              "      <td>1</td>\n",
              "      <td>0</td>\n",
              "      <td>0</td>\n",
              "      <td>0</td>\n",
              "      <td>0</td>\n",
              "    </tr>\n",
              "    <tr>\n",
              "      <th>2</th>\n",
              "      <td>5.091079</td>\n",
              "      <td>0.805153</td>\n",
              "      <td>0.427715</td>\n",
              "      <td>1</td>\n",
              "      <td>0</td>\n",
              "      <td>0</td>\n",
              "      <td>1</td>\n",
              "      <td>0</td>\n",
              "    </tr>\n",
              "    <tr>\n",
              "      <th>3</th>\n",
              "      <td>2.247564</td>\n",
              "      <td>5.600044</td>\n",
              "      <td>0.362663</td>\n",
              "      <td>1</td>\n",
              "      <td>1</td>\n",
              "      <td>0</td>\n",
              "      <td>1</td>\n",
              "      <td>0</td>\n",
              "    </tr>\n",
              "    <tr>\n",
              "      <th>4</th>\n",
              "      <td>44.190936</td>\n",
              "      <td>0.566486</td>\n",
              "      <td>2.222767</td>\n",
              "      <td>1</td>\n",
              "      <td>1</td>\n",
              "      <td>0</td>\n",
              "      <td>1</td>\n",
              "      <td>0</td>\n",
              "    </tr>\n",
              "  </tbody>\n",
              "</table>\n",
              "</div>\n",
              "    <div class=\"colab-df-buttons\">\n",
              "\n",
              "  <div class=\"colab-df-container\">\n",
              "    <button class=\"colab-df-convert\" onclick=\"convertToInteractive('df-e81d8f51-b6aa-46a2-a7e3-5c756a1e5dcc')\"\n",
              "            title=\"Convert this dataframe to an interactive table.\"\n",
              "            style=\"display:none;\">\n",
              "\n",
              "  <svg xmlns=\"http://www.w3.org/2000/svg\" height=\"24px\" viewBox=\"0 -960 960 960\">\n",
              "    <path d=\"M120-120v-720h720v720H120Zm60-500h600v-160H180v160Zm220 220h160v-160H400v160Zm0 220h160v-160H400v160ZM180-400h160v-160H180v160Zm440 0h160v-160H620v160ZM180-180h160v-160H180v160Zm440 0h160v-160H620v160Z\"/>\n",
              "  </svg>\n",
              "    </button>\n",
              "\n",
              "  <style>\n",
              "    .colab-df-container {\n",
              "      display:flex;\n",
              "      gap: 12px;\n",
              "    }\n",
              "\n",
              "    .colab-df-convert {\n",
              "      background-color: #E8F0FE;\n",
              "      border: none;\n",
              "      border-radius: 50%;\n",
              "      cursor: pointer;\n",
              "      display: none;\n",
              "      fill: #1967D2;\n",
              "      height: 32px;\n",
              "      padding: 0 0 0 0;\n",
              "      width: 32px;\n",
              "    }\n",
              "\n",
              "    .colab-df-convert:hover {\n",
              "      background-color: #E2EBFA;\n",
              "      box-shadow: 0px 1px 2px rgba(60, 64, 67, 0.3), 0px 1px 3px 1px rgba(60, 64, 67, 0.15);\n",
              "      fill: #174EA6;\n",
              "    }\n",
              "\n",
              "    .colab-df-buttons div {\n",
              "      margin-bottom: 4px;\n",
              "    }\n",
              "\n",
              "    [theme=dark] .colab-df-convert {\n",
              "      background-color: #3B4455;\n",
              "      fill: #D2E3FC;\n",
              "    }\n",
              "\n",
              "    [theme=dark] .colab-df-convert:hover {\n",
              "      background-color: #434B5C;\n",
              "      box-shadow: 0px 1px 3px 1px rgba(0, 0, 0, 0.15);\n",
              "      filter: drop-shadow(0px 1px 2px rgba(0, 0, 0, 0.3));\n",
              "      fill: #FFFFFF;\n",
              "    }\n",
              "  </style>\n",
              "\n",
              "    <script>\n",
              "      const buttonEl =\n",
              "        document.querySelector('#df-e81d8f51-b6aa-46a2-a7e3-5c756a1e5dcc button.colab-df-convert');\n",
              "      buttonEl.style.display =\n",
              "        google.colab.kernel.accessAllowed ? 'block' : 'none';\n",
              "\n",
              "      async function convertToInteractive(key) {\n",
              "        const element = document.querySelector('#df-e81d8f51-b6aa-46a2-a7e3-5c756a1e5dcc');\n",
              "        const dataTable =\n",
              "          await google.colab.kernel.invokeFunction('convertToInteractive',\n",
              "                                                    [key], {});\n",
              "        if (!dataTable) return;\n",
              "\n",
              "        const docLinkHtml = 'Like what you see? Visit the ' +\n",
              "          '<a target=\"_blank\" href=https://colab.research.google.com/notebooks/data_table.ipynb>data table notebook</a>'\n",
              "          + ' to learn more about interactive tables.';\n",
              "        element.innerHTML = '';\n",
              "        dataTable['output_type'] = 'display_data';\n",
              "        await google.colab.output.renderOutput(dataTable, element);\n",
              "        const docLink = document.createElement('div');\n",
              "        docLink.innerHTML = docLinkHtml;\n",
              "        element.appendChild(docLink);\n",
              "      }\n",
              "    </script>\n",
              "  </div>\n",
              "\n",
              "\n",
              "<div id=\"df-a7a1db74-fd9c-4610-a143-fc7c827965a5\">\n",
              "  <button class=\"colab-df-quickchart\" onclick=\"quickchart('df-a7a1db74-fd9c-4610-a143-fc7c827965a5')\"\n",
              "            title=\"Suggest charts\"\n",
              "            style=\"display:none;\">\n",
              "\n",
              "<svg xmlns=\"http://www.w3.org/2000/svg\" height=\"24px\"viewBox=\"0 0 24 24\"\n",
              "     width=\"24px\">\n",
              "    <g>\n",
              "        <path d=\"M19 3H5c-1.1 0-2 .9-2 2v14c0 1.1.9 2 2 2h14c1.1 0 2-.9 2-2V5c0-1.1-.9-2-2-2zM9 17H7v-7h2v7zm4 0h-2V7h2v10zm4 0h-2v-4h2v4z\"/>\n",
              "    </g>\n",
              "</svg>\n",
              "  </button>\n",
              "\n",
              "<style>\n",
              "  .colab-df-quickchart {\n",
              "      --bg-color: #E8F0FE;\n",
              "      --fill-color: #1967D2;\n",
              "      --hover-bg-color: #E2EBFA;\n",
              "      --hover-fill-color: #174EA6;\n",
              "      --disabled-fill-color: #AAA;\n",
              "      --disabled-bg-color: #DDD;\n",
              "  }\n",
              "\n",
              "  [theme=dark] .colab-df-quickchart {\n",
              "      --bg-color: #3B4455;\n",
              "      --fill-color: #D2E3FC;\n",
              "      --hover-bg-color: #434B5C;\n",
              "      --hover-fill-color: #FFFFFF;\n",
              "      --disabled-bg-color: #3B4455;\n",
              "      --disabled-fill-color: #666;\n",
              "  }\n",
              "\n",
              "  .colab-df-quickchart {\n",
              "    background-color: var(--bg-color);\n",
              "    border: none;\n",
              "    border-radius: 50%;\n",
              "    cursor: pointer;\n",
              "    display: none;\n",
              "    fill: var(--fill-color);\n",
              "    height: 32px;\n",
              "    padding: 0;\n",
              "    width: 32px;\n",
              "  }\n",
              "\n",
              "  .colab-df-quickchart:hover {\n",
              "    background-color: var(--hover-bg-color);\n",
              "    box-shadow: 0 1px 2px rgba(60, 64, 67, 0.3), 0 1px 3px 1px rgba(60, 64, 67, 0.15);\n",
              "    fill: var(--button-hover-fill-color);\n",
              "  }\n",
              "\n",
              "  .colab-df-quickchart-complete:disabled,\n",
              "  .colab-df-quickchart-complete:disabled:hover {\n",
              "    background-color: var(--disabled-bg-color);\n",
              "    fill: var(--disabled-fill-color);\n",
              "    box-shadow: none;\n",
              "  }\n",
              "\n",
              "  .colab-df-spinner {\n",
              "    border: 2px solid var(--fill-color);\n",
              "    border-color: transparent;\n",
              "    border-bottom-color: var(--fill-color);\n",
              "    animation:\n",
              "      spin 1s steps(1) infinite;\n",
              "  }\n",
              "\n",
              "  @keyframes spin {\n",
              "    0% {\n",
              "      border-color: transparent;\n",
              "      border-bottom-color: var(--fill-color);\n",
              "      border-left-color: var(--fill-color);\n",
              "    }\n",
              "    20% {\n",
              "      border-color: transparent;\n",
              "      border-left-color: var(--fill-color);\n",
              "      border-top-color: var(--fill-color);\n",
              "    }\n",
              "    30% {\n",
              "      border-color: transparent;\n",
              "      border-left-color: var(--fill-color);\n",
              "      border-top-color: var(--fill-color);\n",
              "      border-right-color: var(--fill-color);\n",
              "    }\n",
              "    40% {\n",
              "      border-color: transparent;\n",
              "      border-right-color: var(--fill-color);\n",
              "      border-top-color: var(--fill-color);\n",
              "    }\n",
              "    60% {\n",
              "      border-color: transparent;\n",
              "      border-right-color: var(--fill-color);\n",
              "    }\n",
              "    80% {\n",
              "      border-color: transparent;\n",
              "      border-right-color: var(--fill-color);\n",
              "      border-bottom-color: var(--fill-color);\n",
              "    }\n",
              "    90% {\n",
              "      border-color: transparent;\n",
              "      border-bottom-color: var(--fill-color);\n",
              "    }\n",
              "  }\n",
              "</style>\n",
              "\n",
              "  <script>\n",
              "    async function quickchart(key) {\n",
              "      const quickchartButtonEl =\n",
              "        document.querySelector('#' + key + ' button');\n",
              "      quickchartButtonEl.disabled = true;  // To prevent multiple clicks.\n",
              "      quickchartButtonEl.classList.add('colab-df-spinner');\n",
              "      try {\n",
              "        const charts = await google.colab.kernel.invokeFunction(\n",
              "            'suggestCharts', [key], {});\n",
              "      } catch (error) {\n",
              "        console.error('Error during call to suggestCharts:', error);\n",
              "      }\n",
              "      quickchartButtonEl.classList.remove('colab-df-spinner');\n",
              "      quickchartButtonEl.classList.add('colab-df-quickchart-complete');\n",
              "    }\n",
              "    (() => {\n",
              "      let quickchartButtonEl =\n",
              "        document.querySelector('#df-a7a1db74-fd9c-4610-a143-fc7c827965a5 button');\n",
              "      quickchartButtonEl.style.display =\n",
              "        google.colab.kernel.accessAllowed ? 'block' : 'none';\n",
              "    })();\n",
              "  </script>\n",
              "</div>\n",
              "    </div>\n",
              "  </div>\n"
            ]
          },
          "metadata": {},
          "execution_count": 16
        }
      ],
      "source": [
        "data.head()"
      ]
    },
    {
      "cell_type": "code",
      "source": [
        "#question1: For each 𝛾 ∈ {0.1, 0.2, … , 1}, oversample the training set with the desired ratio 𝛾 of the\n",
        "#number of samples in the minority class over the number of samples in the majority class."
      ],
      "metadata": {
        "id": "D58fq_htCXpw"
      },
      "id": "D58fq_htCXpw",
      "execution_count": 5,
      "outputs": []
    },
    {
      "cell_type": "code",
      "source": [
        "# Separate features and target variable and generate the training and test sets\n",
        "X_train = data.iloc[:500000,:7]\n",
        "X_test = data.iloc[500000:,:7]\n",
        "y_train = data.iloc[:500000,7:]\n",
        "y_test = data.iloc[500000:,7:]\n"
      ],
      "metadata": {
        "id": "nEFkkB5cBBjm"
      },
      "id": "nEFkkB5cBBjm",
      "execution_count": 20,
      "outputs": []
    },
    {
      "cell_type": "code",
      "source": [
        "from collections import Counter\n",
        "categorical_indices = [3,4,5,6]\n",
        "# Define the range of gamma values\n",
        "gamma_values = np.arange(0.1, 1.1, 0.1)\n",
        "# Calculate the number of minority class samples\n",
        "num_minority_samples = np.sum(y_train == 1)"
      ],
      "metadata": {
        "id": "yesbC_5xCPAt"
      },
      "id": "yesbC_5xCPAt",
      "execution_count": 21,
      "outputs": []
    },
    {
      "cell_type": "code",
      "source": [
        "# Create a dictionary to store the resampled datasets for each gamma value\n",
        "resampled_datasets = {}\n",
        "\n",
        "# Loop through each gamma value\n",
        "for gamma in gamma_values:\n",
        "    # Calculate the number of minority class samples to be oversampled\n",
        "    minority_class_samples = int(gamma * np.sum(y_train == 0))\n",
        "\n",
        "    # Initialize SMOTENC with the desired minority class samples and categorical feature indices\n",
        "    smote_nc = SMOTENC(sampling_strategy={1: minority_class_samples}, categorical_features=categorical_indices, random_state=42)\n",
        "\n",
        "    # Apply SMOTE-NC to the training data\n",
        "    X_train_resampled, y_train_resampled = smote_nc.fit_resample(X_train, y_train)\n",
        "\n",
        "    # Store the resampled dataset in the dictionary\n",
        "    resampled_datasets[gamma] = (X_train_resampled, y_train_resampled)\n",
        "\n",
        "    # Print the class distribution after resampling for each gamma value\n",
        "    print(f\"Gamma: {gamma}, Class distribution after resampling: {Counter(y_train_resampled)}\")"
      ],
      "metadata": {
        "colab": {
          "base_uri": "https://localhost:8080/"
        },
        "id": "IDG-1O-KCTgs",
        "outputId": "3fdfba98-0750-497c-95ba-07abbca09235"
      },
      "id": "IDG-1O-KCTgs",
      "execution_count": 22,
      "outputs": [
        {
          "output_type": "stream",
          "name": "stdout",
          "text": [
            "Gamma: 0.1, Class distribution after resampling: Counter({'fraud': 1})\n",
            "Gamma: 0.2, Class distribution after resampling: Counter({'fraud': 1})\n",
            "Gamma: 0.30000000000000004, Class distribution after resampling: Counter({'fraud': 1})\n",
            "Gamma: 0.4, Class distribution after resampling: Counter({'fraud': 1})\n",
            "Gamma: 0.5, Class distribution after resampling: Counter({'fraud': 1})\n",
            "Gamma: 0.6, Class distribution after resampling: Counter({'fraud': 1})\n",
            "Gamma: 0.7000000000000001, Class distribution after resampling: Counter({'fraud': 1})\n",
            "Gamma: 0.8, Class distribution after resampling: Counter({'fraud': 1})\n",
            "Gamma: 0.9, Class distribution after resampling: Counter({'fraud': 1})\n",
            "Gamma: 1.0, Class distribution after resampling: Counter({'fraud': 1})\n"
          ]
        }
      ]
    },
    {
      "cell_type": "code",
      "source": [
        "#question2 For each of the resulting oversampled datasets, fit a decision tree (with information gain as\n",
        "#the feature selection criterion) and calculate its training and testing recall, precision, and 𝐹1 score."
      ],
      "metadata": {
        "id": "C3SFV6HFnRIV"
      },
      "id": "C3SFV6HFnRIV",
      "execution_count": 23,
      "outputs": []
    },
    {
      "cell_type": "code",
      "source": [
        "from sklearn.tree import DecisionTreeClassifier\n",
        "from sklearn.metrics import precision_score, recall_score, f1_score"
      ],
      "metadata": {
        "id": "IEIvu4L9rzGx"
      },
      "id": "IEIvu4L9rzGx",
      "execution_count": 24,
      "outputs": []
    },
    {
      "cell_type": "code",
      "source": [
        "# Create dictionaries to store evaluation metrics for each gamma value\n",
        "train_metrics = {}\n",
        "test_metrics = {}\n",
        "\n",
        "# Loop through each gamma value\n",
        "for gamma, (X_train_resampled, y_train_resampled) in resampled_datasets.items():\n",
        "    # Initialize DecisionTreeClassifier with information gain as the criterion\n",
        "    dt_classifier = DecisionTreeClassifier(criterion='entropy', random_state=42)\n",
        "\n",
        "    # Fit the decision tree on the resampled training data\n",
        "    dt_classifier.fit(X_train_resampled, y_train_resampled)\n",
        "\n",
        "    # Predictions on training set\n",
        "    y_train_pred = dt_classifier.predict(X_train_resampled)\n",
        "    # Predictions on test set\n",
        "    y_test_pred = dt_classifier.predict(X_test)\n",
        "\n",
        "    # Calculate training metrics\n",
        "    train_precision = precision_score(y_train_resampled, y_train_pred)\n",
        "    train_recall = recall_score(y_train_resampled, y_train_pred)\n",
        "    train_f1 = f1_score(y_train_resampled, y_train_pred)\n",
        "\n",
        "    # Calculate testing metrics\n",
        "    test_precision = precision_score(y_test, y_test_pred)\n",
        "    test_recall = recall_score(y_test, y_test_pred)\n",
        "    test_f1 = f1_score(y_test, y_test_pred)\n",
        "\n",
        "    # Store metrics in dictionaries\n",
        "    train_metrics[gamma] = {'Precision': train_precision, 'Recall': train_recall, 'F1': train_f1}\n",
        "    test_metrics[gamma] = {'Precision': test_precision, 'Recall': test_recall, 'F1': test_f1}\n",
        "\n",
        "# Print evaluation metrics for each gamma value\n",
        "print(\"Training Metrics:\")\n",
        "for gamma, metrics in train_metrics.items():\n",
        "    print(f\"Gamma: {gamma}, Precision: {metrics['Precision']}, Recall: {metrics['Recall']}, F1: {metrics['F1']}\")\n",
        "\n",
        "print(\"\\nTesting Metrics:\")\n",
        "for gamma, metrics in test_metrics.items():\n",
        "    print(f\"Gamma: {gamma}, Precision: {metrics['Precision']}, Recall: {metrics['Recall']}, F1: {metrics['F1']}\")\n"
      ],
      "metadata": {
        "colab": {
          "base_uri": "https://localhost:8080/"
        },
        "id": "21dI8T0grt4c",
        "outputId": "8b3bb669-f539-489c-83da-a25e6a25c4cd"
      },
      "id": "21dI8T0grt4c",
      "execution_count": 25,
      "outputs": [
        {
          "output_type": "stream",
          "name": "stdout",
          "text": [
            "Training Metrics:\n",
            "Gamma: 0.1, Precision: 1.0, Recall: 1.0, F1: 1.0\n",
            "Gamma: 0.2, Precision: 1.0, Recall: 1.0, F1: 1.0\n",
            "Gamma: 0.30000000000000004, Precision: 1.0, Recall: 1.0, F1: 1.0\n",
            "Gamma: 0.4, Precision: 1.0, Recall: 1.0, F1: 1.0\n",
            "Gamma: 0.5, Precision: 1.0, Recall: 1.0, F1: 1.0\n",
            "Gamma: 0.6, Precision: 1.0, Recall: 1.0, F1: 1.0\n",
            "Gamma: 0.7000000000000001, Precision: 1.0, Recall: 1.0, F1: 1.0\n",
            "Gamma: 0.8, Precision: 1.0, Recall: 1.0, F1: 1.0\n",
            "Gamma: 0.9, Precision: 1.0, Recall: 1.0, F1: 1.0\n",
            "Gamma: 1.0, Precision: 1.0, Recall: 1.0, F1: 1.0\n",
            "\n",
            "Testing Metrics:\n",
            "Gamma: 0.1, Precision: 0.9999542595769011, Recall: 0.9997027620267057, F1: 0.9998284949863366\n",
            "Gamma: 0.2, Precision: 0.9997027688227359, Recall: 0.9997256264861899, F1: 0.9997141975238074\n",
            "Gamma: 0.30000000000000004, Precision: 0.9993600292558055, Recall: 0.9997256264861899, F1: 0.9995427944403804\n",
            "Gamma: 0.4, Precision: 0.9993828994583228, Recall: 0.9997713554051583, F1: 0.9995770896912755\n",
            "Gamma: 0.5, Precision: 0.9991773120957974, Recall: 0.9997027620267057, F1: 0.9994399679981714\n",
            "Gamma: 0.6, Precision: 0.9992915257336137, Recall: 0.9997484909456741, F1: 0.999519956110273\n",
            "Gamma: 0.7000000000000001, Precision: 0.9986525065661757, Recall: 0.9997713554051583, F1: 0.9992116177831606\n",
            "Gamma: 0.8, Precision: 0.9988806140631425, Recall: 0.9997484909456741, F1: 0.9993143640726775\n",
            "Gamma: 0.9, Precision: 0.9988349514563106, Recall: 0.9997256264861899, F1: 0.9992800905029082\n",
            "Gamma: 1.0, Precision: 0.9986068924566652, Recall: 0.9997713554051583, F1: 0.9991887846623174\n"
          ]
        }
      ]
    },
    {
      "cell_type": "code",
      "source": [
        "#question3 Draw a plot of training and testing 𝐹1 score as functions of 𝛾. Does using SMOTE-NC\n",
        "#improve the decision tree’s performance?"
      ],
      "metadata": {
        "id": "jIwqb6XprhhC"
      },
      "id": "jIwqb6XprhhC",
      "execution_count": 26,
      "outputs": []
    },
    {
      "cell_type": "code",
      "source": [
        "import matplotlib.pyplot as plt\n",
        "\n",
        "# Extract gamma values and corresponding F1 scores for training and testing sets\n",
        "gamma_values = list(train_metrics.keys())\n",
        "train_f1_scores = [train_metrics[gamma]['F1'] for gamma in gamma_values]\n",
        "test_f1_scores = [test_metrics[gamma]['F1'] for gamma in gamma_values]\n",
        "\n",
        "# Plotting the F1 scores\n",
        "plt.figure(figsize=(10, 6))\n",
        "plt.plot(gamma_values, train_f1_scores, marker='o', label='Training F1 Score')\n",
        "plt.plot(gamma_values, test_f1_scores, marker='o', label='Testing F1 Score')\n",
        "plt.xlabel('Gamma')\n",
        "plt.ylabel('F1 Score')\n",
        "plt.title('Training and Testing F1 Score vs. Gamma')\n",
        "plt.legend()\n",
        "plt.grid(True)\n",
        "plt.show()\n"
      ],
      "metadata": {
        "colab": {
          "base_uri": "https://localhost:8080/",
          "height": 564
        },
        "id": "uiIUab8Fuiw1",
        "outputId": "8afcfd34-2a6d-4953-d5f1-365d452f0f9f"
      },
      "id": "uiIUab8Fuiw1",
      "execution_count": 27,
      "outputs": [
        {
          "output_type": "display_data",
          "data": {
            "text/plain": [
              "<Figure size 1000x600 with 1 Axes>"
            ],
            "image/png": "[encoded data removed]"
          },
          "metadata": {}
        }
      ]
    }
  ],
  "metadata": {
    "kernelspec": {
      "display_name": "Python 3 (ipykernel)",
      "language": "python",
      "name": "python3"
    },
    "language_info": {
      "codemirror_mode": {
        "name": "ipython",
        "version": 3
      },
      "file_extension": ".py",
      "mimetype": "text/x-python",
      "name": "python",
      "nbconvert_exporter": "python",
      "pygments_lexer": "ipython3",
      "version": "3.11.5"
    },
    "colab": {
      "provenance": [],
      "include_colab_link": true
    }
  },
  "nbformat": 4,
  "nbformat_minor": 5
}